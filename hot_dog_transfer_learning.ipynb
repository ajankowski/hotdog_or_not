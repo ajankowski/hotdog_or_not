{
  "cells": [
    {
      "cell_type": "markdown",
      "metadata": {
        "id": "view-in-github",
        "colab_type": "text"
      },
      "source": [
        "<a href=\"https://colab.research.google.com/github/ajankowski/hotdog_or_not/blob/main/hot_dog_transfer_learning.ipynb\" target=\"_parent\"><img src=\"https://colab.research.google.com/assets/colab-badge.svg\" alt=\"Open In Colab\"/></a>"
      ]
    },
    {
      "cell_type": "markdown",
      "metadata": {
        "id": "0kbY0KYfXUvL"
      },
      "source": [
        "# Transfer Learning\n",
        "\n"
      ]
    },
    {
      "cell_type": "markdown",
      "metadata": {
        "id": "gwkO_cNnXUvQ"
      },
      "source": [
        "## Import libraries"
      ]
    },
    {
      "cell_type": "code",
      "execution_count": null,
      "metadata": {
        "id": "QopB53apXUvV"
      },
      "outputs": [],
      "source": [
        "import os\n",
        "import numpy as np\n",
        "import tensorflow as tf\n",
        "import matplotlib.pyplot as plt"
      ]
    },
    {
      "cell_type": "markdown",
      "metadata": {
        "id": "4qjso4EqXUwA"
      },
      "source": [
        "# Get the data"
      ]
    },
    {
      "cell_type": "code",
      "execution_count": null,
      "metadata": {
        "id": "MmFfw5WyXUwC"
      },
      "outputs": [],
      "source": [
        "# git clone command downloads the git repository \n",
        "# unzip extracts the data \n",
        "! git clone https://github.com/ajankowski/hotdog_or_not.git\n",
        "! unzip hotdog_or_not/test.zip\n",
        "! unzip hotdog_or_not/train.zip"
      ]
    },
    {
      "cell_type": "code",
      "source": [
        "# create list of images\n",
        "\n",
        "img_list = []\n",
        "\n",
        "for dir in os.listdir('test'):\n",
        "    for file in os.listdir(os.path.join('test', dir)):\n",
        "        img_list.append(os.path.join('test', dir, file))\n",
        "\n",
        "len(img_list)"
      ],
      "metadata": {
        "id": "48n4xhybpS9U"
      },
      "execution_count": null,
      "outputs": []
    },
    {
      "cell_type": "code",
      "source": [
        "# sample images from the list and show it\n",
        "\n",
        "sample_images = [img_list[i] for i in [0, 100, 300, 400]]\n",
        "\n",
        "plt.figure(figsize=(8, 8))\n",
        "for i in range(4):\n",
        "   plt.subplot(2, 2, i+1)\n",
        "   plt.imshow(plt.imread(sample_images[i]))\n",
        "   plt.axis('off')\n",
        "   plt.tight_layout()"
      ],
      "metadata": {
        "id": "F_Sq94dAlT5O"
      },
      "execution_count": null,
      "outputs": []
    },
    {
      "cell_type": "code",
      "execution_count": null,
      "metadata": {
        "id": "AXNPazweXUwH"
      },
      "outputs": [],
      "source": [
        "# Instantiate two image generator classes:\n",
        "train_datagen = tf.keras.preprocessing.image.ImageDataGenerator(\n",
        "    rescale=1.0/255,\n",
        "    data_format='channels_last',\n",
        "    rotation_range=30,\n",
        "    horizontal_flip=True,\n",
        "    fill_mode='reflect')\n",
        "\n",
        "test_datagen = tf.keras.preprocessing.image.ImageDataGenerator(\n",
        "    rescale=1.0/255,\n",
        "    data_format='channels_last')"
      ]
    },
    {
      "cell_type": "code",
      "execution_count": null,
      "metadata": {
        "id": "GkC9jS5YXUwL"
      },
      "outputs": [],
      "source": [
        "# Define the batch size:\n",
        "batch_size=32"
      ]
    },
    {
      "cell_type": "code",
      "execution_count": null,
      "metadata": {
        "id": "gXyJj7ewXUwR"
      },
      "outputs": [],
      "source": [
        "# Define the train and test generators: \n",
        "classes = ['hot_dog','not_hot_dog']\n",
        "\n",
        "train_generator = train_datagen.flow_from_directory(\n",
        "    directory='train',\n",
        "    target_size=(224, 224),\n",
        "    classes=classes,\n",
        "    class_mode='categorical',\n",
        "    batch_size=batch_size,\n",
        "    shuffle=True,\n",
        "    seed=42)\n",
        "\n",
        "test_generator = test_datagen.flow_from_directory(\n",
        "    directory='test',\n",
        "    target_size=(224, 224),\n",
        "    classes=classes,\n",
        "    class_mode='categorical',\n",
        "    batch_size=batch_size,\n",
        "    shuffle=True,\n",
        "    seed=42)"
      ]
    },
    {
      "cell_type": "markdown",
      "source": [
        "# The model"
      ],
      "metadata": {
        "id": "aftLSRCtoZAn"
      }
    },
    {
      "cell_type": "markdown",
      "metadata": {
        "id": "yv-1x_UVXUvf"
      },
      "source": [
        "## Load the pre-trained model"
      ]
    },
    {
      "cell_type": "code",
      "execution_count": null,
      "metadata": {
        "id": "8EBF8Nq_XUvh"
      },
      "outputs": [],
      "source": [
        "base_model = tf.keras.applications.vgg16.VGG16(include_top=False,\n",
        "              weights='imagenet',\n",
        "              input_shape=(224,224,3),\n",
        "              pooling=None)"
      ]
    },
    {
      "cell_type": "markdown",
      "metadata": {
        "id": "_Nas5PppXUvo"
      },
      "source": [
        "## Freeze the layers in the base (pretrained) model"
      ]
    },
    {
      "cell_type": "code",
      "execution_count": null,
      "metadata": {
        "id": "OIfAuTcpXUvq"
      },
      "outputs": [],
      "source": [
        "for layer in base_model.layers:\n",
        "    layer.trainable = False"
      ]
    },
    {
      "cell_type": "markdown",
      "metadata": {
        "id": "MbKPfaJ4XUvw"
      },
      "source": [
        "## Build the neural network"
      ]
    },
    {
      "cell_type": "code",
      "execution_count": null,
      "metadata": {
        "id": "1UwPBdAAXUvy"
      },
      "outputs": [],
      "source": [
        "model = tf.keras.models.Sequential()\n",
        "\n",
        "# pretrained model\n",
        "model.add(base_model)\n",
        "\n",
        "# your own classifier \n",
        "model.add(tf.keras.layers.Flatten())\n",
        "model.add(tf.keras.layers.Dense(128, activation='relu'))\n",
        "model.add(tf.keras.layers.Dropout(0.4))\n",
        "model.add(tf.keras.layers.Dense(2, activation='softmax'))"
      ]
    },
    {
      "cell_type": "code",
      "execution_count": null,
      "metadata": {
        "id": "bcxO9igkahgS"
      },
      "outputs": [],
      "source": [
        "model.summary()"
      ]
    },
    {
      "cell_type": "markdown",
      "metadata": {
        "id": "0hRykcyAXUv3"
      },
      "source": [
        "## Compile the model"
      ]
    },
    {
      "cell_type": "code",
      "execution_count": null,
      "metadata": {
        "id": "8lMeMTHYXUv5"
      },
      "outputs": [],
      "source": [
        "model.compile(optimizer='adam', loss='categorical_crossentropy', metrics=['accuracy'])"
      ]
    },
    {
      "cell_type": "markdown",
      "source": [
        "## Training"
      ],
      "metadata": {
        "id": "QmYMQAjzoqV8"
      }
    },
    {
      "cell_type": "code",
      "execution_count": null,
      "metadata": {
        "id": "md-_KzmjXUwW"
      },
      "outputs": [],
      "source": [
        "model.fit(train_generator, steps_per_epoch=15, \n",
        "                    epochs=10, validation_data=test_generator, \n",
        "                    validation_steps=15)"
      ]
    },
    {
      "cell_type": "code",
      "source": [
        "#@title Load sample images\n",
        "img1_adress = \"https://hips.hearstapps.com/hmg-prod.s3.amazonaws.com/images/delish-210326-blt-hotdog-02-landscape-jg-1622060198.jpg\" #@param {type:\"string\"}\n",
        "img2_adress = \"https://s3.przepisy.pl/przepisy3ii/img/variants/800x0/pizza-grecka.jpg\" #@param {type:\"string\"}\n",
        "!wget -O test1 $img1_adress\n",
        "!wget -O test2 $img2_adress"
      ],
      "metadata": {
        "cellView": "form",
        "id": "vj0mlkT4oJQr"
      },
      "execution_count": null,
      "outputs": []
    },
    {
      "cell_type": "code",
      "source": [
        "img_1 = tf.keras.preprocessing.image.load_img('test1', target_size=(224, 224))\n",
        "img_2 = tf.keras.preprocessing.image.load_img('test2', target_size=(224, 224))"
      ],
      "metadata": {
        "id": "VrUNRvqKoug-"
      },
      "execution_count": null,
      "outputs": []
    },
    {
      "cell_type": "code",
      "source": [
        "plt.imshow(img_1)\n",
        "plt.axis('off')\n",
        "plt.show()"
      ],
      "metadata": {
        "id": "N7c15XLgpwMc"
      },
      "execution_count": null,
      "outputs": []
    },
    {
      "cell_type": "code",
      "source": [
        "pred1 = model.predict(np.expand_dims(np.array(img_1), axis=0))\n",
        "pred1"
      ],
      "metadata": {
        "id": "ymoQ9wr8qJMq"
      },
      "execution_count": null,
      "outputs": []
    },
    {
      "cell_type": "code",
      "source": [
        "classes[np.argmax(pred1)]"
      ],
      "metadata": {
        "id": "JR2HyVdstZYy"
      },
      "execution_count": null,
      "outputs": []
    },
    {
      "cell_type": "code",
      "source": [
        "plt.imshow(img_2)\n",
        "plt.axis('off')\n",
        "plt.show()"
      ],
      "metadata": {
        "id": "3rzK0Y66soic"
      },
      "execution_count": null,
      "outputs": []
    },
    {
      "cell_type": "code",
      "source": [
        "pred2 = model.predict(np.expand_dims(np.array(img_2), axis=0))\n",
        "pred2"
      ],
      "metadata": {
        "id": "1nC9QZustBlP"
      },
      "execution_count": null,
      "outputs": []
    },
    {
      "cell_type": "code",
      "source": [
        "classes[np.argmax(pred2)]"
      ],
      "metadata": {
        "id": "q5wPgSe9tneZ"
      },
      "execution_count": null,
      "outputs": []
    },
    {
      "cell_type": "markdown",
      "source": [
        "# Let's deploy it"
      ],
      "metadata": {
        "id": "c7TzTt61xuzv"
      }
    },
    {
      "cell_type": "code",
      "source": [
        "!pip install gradio -q"
      ],
      "metadata": {
        "id": "dhiU1e5Mx0hE"
      },
      "execution_count": null,
      "outputs": []
    },
    {
      "cell_type": "code",
      "source": [
        "import gradio as gr"
      ],
      "metadata": {
        "id": "Acy6UvbYxxzH"
      },
      "execution_count": null,
      "outputs": []
    },
    {
      "cell_type": "code",
      "source": [
        "def inference(image):\n",
        "    img = np.expand_dims(image, axis=0)\n",
        "    prediction = classes[np.argmax(model.predict(img))]\n",
        "    return prediction\n",
        "\n",
        "input = gr.inputs.Image(shape=(224, 224))\n",
        "\n",
        "interface = gr.Interface(fn=inference, inputs=input, outputs=gr.outputs.Label())\n",
        "\n",
        "interface.launch(share=True, debug=True)"
      ],
      "metadata": {
        "id": "fmfU03GyxzDc"
      },
      "execution_count": null,
      "outputs": []
    },
    {
      "cell_type": "code",
      "source": [
        ""
      ],
      "metadata": {
        "id": "TRuVALeqzB7N"
      },
      "execution_count": null,
      "outputs": []
    }
  ],
  "metadata": {
    "accelerator": "GPU",
    "colab": {
      "name": "hot_dog_transfer_learning.ipynb",
      "provenance": [],
      "private_outputs": true,
      "include_colab_link": true
    },
    "kernelspec": {
      "display_name": "Python 3",
      "language": "python",
      "name": "python3"
    },
    "language_info": {
      "codemirror_mode": {
        "name": "ipython",
        "version": 3
      },
      "file_extension": ".py",
      "mimetype": "text/x-python",
      "name": "python",
      "nbconvert_exporter": "python",
      "pygments_lexer": "ipython3",
      "version": "3.7.3"
    }
  },
  "nbformat": 4,
  "nbformat_minor": 0
}